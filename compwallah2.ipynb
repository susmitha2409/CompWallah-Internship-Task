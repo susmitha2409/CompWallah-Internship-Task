{
  "nbformat": 4,
  "nbformat_minor": 0,
  "metadata": {
    "colab": {
      "provenance": []
    },
    "kernelspec": {
      "name": "python3",
      "display_name": "Python 3"
    },
    "language_info": {
      "name": "python"
    }
  },
  "cells": [
    {
      "cell_type": "code",
      "execution_count": 22,
      "metadata": {
        "id": "iTKXWGxgo6l_"
      },
      "outputs": [],
      "source": [
        "import pandas as pd\n",
        "from sklearn.model_selection import train_test_split, cross_val_score\n",
        "from sklearn.linear_model import LinearRegression\n",
        "from sklearn.ensemble import RandomForestRegressor, GradientBoostingRegressor\n",
        "from sklearn.svm import SVR\n",
        "from sklearn.preprocessing import LabelEncoder\n",
        "from sklearn.metrics import mean_squared_error\n",
        "from sklearn.preprocessing import MinMaxScaler, StandardScaler\n",
        "from sklearn.model_selection import train_test_split, cross_val_score, GridSearchCV\n",
        "from sklearn.linear_model import LinearRegression\n",
        "from sklearn.ensemble import GradientBoostingRegressor, RandomForestRegressor\n",
        "from sklearn.tree import DecisionTreeRegressor\n",
        "\n",
        "\n",
        "\n"
      ]
    },
    {
      "cell_type": "code",
      "source": [
        "# Load the dataset\n",
        "df=pd.read_csv('/content/Health_insurance.csv')\n",
        "print(df.head())"
      ],
      "metadata": {
        "id": "G2YpgPaEqIJH"
      },
      "execution_count": 10,
      "outputs": []
    },
    {
      "cell_type": "code",
      "source": [
        "# Check for missing values\n",
        "print(df.isnull().sum())\n"
      ],
      "metadata": {
        "colab": {
          "base_uri": "https://localhost:8080/"
        },
        "id": "RM0jP0KTqy3p",
        "outputId": "46e69c3d-97fe-466c-e7b9-bc89795ae1e0"
      },
      "execution_count": 11,
      "outputs": [
        {
          "output_type": "stream",
          "name": "stdout",
          "text": [
            "   age     sex     bmi  children smoker     region      charges\n",
            "0   19  female  27.900         0    yes  southwest  16884.92400\n",
            "1   18    male  33.770         1     no  southeast   1725.55230\n",
            "2   28    male  33.000         3     no  southeast   4449.46200\n",
            "3   33    male  22.705         0     no  northwest  21984.47061\n",
            "4   32    male  28.880         0     no  northwest   3866.85520\n",
            "age         0\n",
            "sex         0\n",
            "bmi         0\n",
            "children    0\n",
            "smoker      0\n",
            "region      0\n",
            "charges     0\n",
            "dtype: int64\n"
          ]
        }
      ]
    },
    {
      "cell_type": "code",
      "source": [
        "# Select the continuous columns\n",
        "continuous_columns = ['age', 'bmi', 'charges']\n",
        "\n",
        "# Initialize MinMaxScaler\n",
        "scaler = MinMaxScaler()\n",
        "\n",
        "\n",
        "# Apply the scaler to the continuous columns\n",
        "df[continuous_columns] = scaler.fit_transform(df[continuous_columns])\n",
        "\n",
        "# Check the transformed DataFrame\n",
        "print(df.head())"
      ],
      "metadata": {
        "colab": {
          "base_uri": "https://localhost:8080/"
        },
        "id": "H9h5rwKqqEdu",
        "outputId": "5026c344-0680-4240-eb30-5dba7159c581"
      },
      "execution_count": 12,
      "outputs": [
        {
          "output_type": "stream",
          "name": "stdout",
          "text": [
            "        age     sex       bmi  children smoker     region   charges\n",
            "0  0.021739  female  0.321227         0    yes  southwest  0.251611\n",
            "1  0.000000    male  0.479150         1     no  southeast  0.009636\n",
            "2  0.217391    male  0.458434         3     no  southeast  0.053115\n",
            "3  0.326087    male  0.181464         0     no  northwest  0.333010\n",
            "4  0.304348    male  0.347592         0     no  northwest  0.043816\n"
          ]
        }
      ]
    },
    {
      "cell_type": "code",
      "source": [
        "# label encoding\n",
        "l=LabelEncoder()\n",
        "categorical=['sex','region','smoker']\n",
        "df[categorical]=l.fit_transform(categorical)"
      ],
      "metadata": {
        "id": "hWDPa9FLsoUv"
      },
      "execution_count": 29,
      "outputs": []
    },
    {
      "cell_type": "code",
      "source": [
        "# Define features and target variable\n",
        "features = ['age','sex','bmi','children','smoker','region']\n",
        "target = 'charges'"
      ],
      "metadata": {
        "id": "i5wT0rmQrvzg"
      },
      "execution_count": 30,
      "outputs": []
    },
    {
      "cell_type": "code",
      "source": [
        "# Select relevant features and target variable\n",
        "x=df[features]\n",
        "y=df[target]"
      ],
      "metadata": {
        "id": "iixLsBVqr5vO"
      },
      "execution_count": 31,
      "outputs": []
    },
    {
      "cell_type": "code",
      "source": [
        "# Split the dataset into training and testing sets\n",
        "x_train,x_test,y_train,y_test=train_test_split(x,y,test_size=0.2)"
      ],
      "metadata": {
        "id": "e6WaGKsGqQRm"
      },
      "execution_count": 32,
      "outputs": []
    },
    {
      "cell_type": "code",
      "source": [
        "# Hyperparameter tuning for Decision Tree Regression\n",
        "dt_params = {'max_depth': [None, 5, 10, 15]}\n",
        "dt = DecisionTreeRegressor()\n",
        "dt_grid = GridSearchCV(dt, dt_params, cv=5, scoring='neg_mean_squared_error')\n",
        "dt_grid.fit(x_train, y_train)\n",
        "best_dt = dt_grid.best_estimator_"
      ],
      "metadata": {
        "id": "8KcMlEJDsJaD"
      },
      "execution_count": 33,
      "outputs": []
    },
    {
      "cell_type": "code",
      "source": [
        "Desiciontreeregress=best_dt.fit(x_train,y_train)"
      ],
      "metadata": {
        "id": "TAEADowlt-h-"
      },
      "execution_count": 37,
      "outputs": []
    },
    {
      "cell_type": "code",
      "source": [
        "y_pred_tree=Desiciontreeregress.predict(x_test)"
      ],
      "metadata": {
        "id": "gf4oIh8YuOqz"
      },
      "execution_count": 41,
      "outputs": []
    },
    {
      "cell_type": "code",
      "source": [
        "data = pd.DataFrame(data={\"Predicted Premium Amount\": y_pred_tree})\n",
        "print(data.head())"
      ],
      "metadata": {
        "colab": {
          "base_uri": "https://localhost:8080/"
        },
        "id": "2-U2Wjeav1qB",
        "outputId": "e28b02a6-206b-42a1-fdc4-dfe1fff26130"
      },
      "execution_count": 47,
      "outputs": [
        {
          "output_type": "stream",
          "name": "stdout",
          "text": [
            "   Predicted Premium Amount\n",
            "0                  0.288963\n",
            "1                  0.268881\n",
            "2                  0.205177\n",
            "3                  0.165381\n",
            "4                  0.204591\n"
          ]
        }
      ]
    },
    {
      "cell_type": "code",
      "source": [
        " Desiciontree_mse= mean_squared_error(y_test,y_pred_tree )\n",
        " print( Desiciontree_mse)"
      ],
      "metadata": {
        "colab": {
          "base_uri": "https://localhost:8080/"
        },
        "id": "7QzmntQZweuY",
        "outputId": "85286bab-03a3-4e7c-b9f0-33f0856e5060"
      },
      "execution_count": 50,
      "outputs": [
        {
          "output_type": "stream",
          "name": "stdout",
          "text": [
            "0.030702626313154843\n"
          ]
        }
      ]
    },
    {
      "cell_type": "code",
      "source": [
        "# Hyperparameter tuning for Random Forest Regression\n",
        "rf_params = {'n_estimators': [100, 200, 300], 'max_depth': [None, 5, 10, 15]}\n",
        "rf = RandomForestRegressor()\n",
        "rf_grid = GridSearchCV(rf, rf_params, cv=5, scoring='neg_mean_squared_error')\n",
        "rf_grid.fit(x_train, y_train)\n",
        "best_rf = rf_grid.best_estimator_"
      ],
      "metadata": {
        "id": "Gc93WNXztHfv"
      },
      "execution_count": 34,
      "outputs": []
    },
    {
      "cell_type": "code",
      "source": [
        "RandomForestRegressor=best_rf.fit(x_train,y_train)"
      ],
      "metadata": {
        "id": "obLlNVT4uZ4f"
      },
      "execution_count": 39,
      "outputs": []
    },
    {
      "cell_type": "code",
      "source": [
        "y_pred_regress=RandomForestRegressor.predict(x_test)"
      ],
      "metadata": {
        "id": "mqYHsB_7uheY"
      },
      "execution_count": 46,
      "outputs": []
    },
    {
      "cell_type": "code",
      "source": [
        "data = pd.DataFrame(data={\"Predicted Premium Amount\": y_pred_regress})\n",
        "print(data.head())"
      ],
      "metadata": {
        "colab": {
          "base_uri": "https://localhost:8080/"
        },
        "id": "F6JPzgNHv3aD",
        "outputId": "fdc11041-29c2-4612-bfe8-2113f22c478f"
      },
      "execution_count": 48,
      "outputs": [
        {
          "output_type": "stream",
          "name": "stdout",
          "text": [
            "   Predicted Premium Amount\n",
            "0                  0.288963\n",
            "1                  0.268881\n",
            "2                  0.205177\n",
            "3                  0.165381\n",
            "4                  0.204591\n"
          ]
        }
      ]
    },
    {
      "cell_type": "code",
      "source": [
        "rf_params= mean_squared_error(y_test,y_pred_regress )\n",
        "print(rf_params)"
      ],
      "metadata": {
        "colab": {
          "base_uri": "https://localhost:8080/"
        },
        "id": "0v_2c0OswyFT",
        "outputId": "c2197c85-c254-4cc7-b6c5-a96ca8038cea"
      },
      "execution_count": 52,
      "outputs": [
        {
          "output_type": "stream",
          "name": "stdout",
          "text": [
            "0.030702626313154843\n"
          ]
        }
      ]
    },
    {
      "cell_type": "code",
      "source": [
        "# Hyperparameter tuning for Gradient Boosting Regression\n",
        "gb_params = {'n_estimators': [100, 200, 300], 'learning_rate': [0.01, 0.1, 0.5]}\n",
        "gb = GradientBoostingRegressor()\n",
        "gb_grid = GridSearchCV(gb, gb_params, cv=5, scoring='neg_mean_squared_error')\n",
        "gb_grid.fit(x_train, y_train)\n",
        "best_gb = gb_grid.best_estimator_"
      ],
      "metadata": {
        "id": "zckaigIntNVQ"
      },
      "execution_count": 43,
      "outputs": []
    },
    {
      "cell_type": "code",
      "source": [
        "GradientBoostingRegressor=best_gb.fit(x_train,y_train)"
      ],
      "metadata": {
        "id": "isDEzM2wt8kH"
      },
      "execution_count": 44,
      "outputs": []
    },
    {
      "cell_type": "code",
      "source": [
        "y_pred_grad=GradientBoostingRegressor.predict(x_test)"
      ],
      "metadata": {
        "id": "BdTLTg2ru4lP"
      },
      "execution_count": 45,
      "outputs": []
    },
    {
      "cell_type": "code",
      "source": [
        "data = pd.DataFrame(data={\"Predicted Premium Amount\":y_pred_grad })\n",
        "print(data.head())"
      ],
      "metadata": {
        "colab": {
          "base_uri": "https://localhost:8080/"
        },
        "id": "dxMvCG0SvA2e",
        "outputId": "b7845cee-e029-4bb0-a4a1-d8a25eb462b8"
      },
      "execution_count": 49,
      "outputs": [
        {
          "output_type": "stream",
          "name": "stdout",
          "text": [
            "   Predicted Premium Amount\n",
            "0                  0.254836\n",
            "1                  0.274444\n",
            "2                  0.240341\n",
            "3                  0.184382\n",
            "4                  0.196524\n"
          ]
        }
      ]
    },
    {
      "cell_type": "code",
      "source": [
        "GradientBoosting= mean_squared_error(y_test,y_pred_grad)\n",
        "print(GradientBoosting)"
      ],
      "metadata": {
        "colab": {
          "base_uri": "https://localhost:8080/"
        },
        "id": "gpg1XFz1wOlQ",
        "outputId": "1ad75f13-947a-4912-ec26-299c6eb32680"
      },
      "execution_count": 53,
      "outputs": [
        {
          "output_type": "stream",
          "name": "stdout",
          "text": [
            "0.031208424408628543\n"
          ]
        }
      ]
    },
    {
      "cell_type": "code",
      "source": [],
      "metadata": {
        "id": "Bi-8E-HjxRYR"
      },
      "execution_count": null,
      "outputs": []
    }
  ]
}